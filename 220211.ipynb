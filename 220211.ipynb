{
  "nbformat": 4,
  "nbformat_minor": 0,
  "metadata": {
    "colab": {
      "name": "220211.ipynb",
      "provenance": [],
      "collapsed_sections": [],
      "authorship_tag": "ABX9TyPTAT7+8+ITr87GfdiwbiJ0",
      "include_colab_link": true
    },
    "kernelspec": {
      "name": "python3",
      "display_name": "Python 3"
    },
    "language_info": {
      "name": "python"
    }
  },
  "cells": [
    {
      "cell_type": "markdown",
      "metadata": {
        "id": "view-in-github",
        "colab_type": "text"
      },
      "source": [
        "<a href=\"https://colab.research.google.com/github/Azendae-Popo/Azendae/blob/220211/220211.ipynb\" target=\"_parent\"><img src=\"https://colab.research.google.com/assets/colab-badge.svg\" alt=\"Open In Colab\"/></a>"
      ]
    },
    {
      "cell_type": "code",
      "execution_count": null,
      "metadata": {
        "id": "gfEuab1JH3_p"
      },
      "outputs": [],
      "source": [
        "import requests \n",
        "import numpy as np\n",
        "import pandas as pd\n",
        "from datetime import datetime\n",
        "point = 'POINT(33.6407 84.4277)'\n",
        "params = {'g': point}\n",
        "# Request url\n",
        "url = 'https://api.cal-adapt.org/api/series/tasmax_day_HadGEM2-ES_rcp85/events/'\n",
        "\n",
        "# Make request\n",
        "response = requests.get(url, params=params)\n",
        "\n",
        "df = pd.read_json(response.text, typ='series', orient='split')\n"
      ]
    }
  ]
}